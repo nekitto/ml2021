{
 "cells": [
  {
   "cell_type": "markdown",
   "source": [
    "<h1>NumPy</h1>"
   ],
   "metadata": {}
  },
  {
   "cell_type": "code",
   "execution_count": 214,
   "source": [
    "import numpy as np\r\n",
    "x = np.random.randint(-10,10, size=(5,5))\r\n",
    "y = np.arange(1,26,5)\r\n",
    "z = np.random.rand(1)\r\n",
    "print(\" x\",\"\\n\",x,\"\\n\",\r\n",
    "        \"y\",\"\\n\",y,\"\\n\",\r\n",
    "        \"z\",\"\\n\",z)"
   ],
   "outputs": [
    {
     "output_type": "stream",
     "name": "stdout",
     "text": [
      " x \n",
      " [[ -8 -10   2   0  -5]\n",
      " [ -7  -9  -6  -1   2]\n",
      " [ -8  -2  -6  -3  -8]\n",
      " [ -7   7  -6   9   9]\n",
      " [-10   2  -4   9   8]] \n",
      " y \n",
      " [ 1  6 11 16 21] \n",
      " z \n",
      " [0.0238137]\n"
     ]
    }
   ],
   "metadata": {}
  },
  {
   "cell_type": "code",
   "execution_count": 215,
   "source": [
    "print(\" x+y\",\"\\n\",x+y,\"\\n\",\r\n",
    "        \"x-y\",\"\\n\",x-y,\"\\n\",\r\n",
    "        \"x*y\",\"\\n\",x*y,\"\\n\",\r\n",
    "        \"x/y\" ,\"\\n\",x/y,\"\\n\")\r\n",
    "\r\n",
    "print(\" x\",\"\\n\",x**2,\"\\n\",\r\n",
    "        \"y\",\"\\n\",y**2,\"\\n\",\r\n",
    "        \"z\",\"\\n\",z**2)\r\n"
   ],
   "outputs": [
    {
     "output_type": "stream",
     "name": "stdout",
     "text": [
      " x+y \n",
      " [[-7 -4 13 16 16]\n",
      " [-6 -3  5 15 23]\n",
      " [-7  4  5 13 13]\n",
      " [-6 13  5 25 30]\n",
      " [-9  8  7 25 29]] \n",
      " x-y \n",
      " [[ -9 -16  -9 -16 -26]\n",
      " [ -8 -15 -17 -17 -19]\n",
      " [ -9  -8 -17 -19 -29]\n",
      " [ -8   1 -17  -7 -12]\n",
      " [-11  -4 -15  -7 -13]] \n",
      " x*y \n",
      " [[  -8  -60   22    0 -105]\n",
      " [  -7  -54  -66  -16   42]\n",
      " [  -8  -12  -66  -48 -168]\n",
      " [  -7   42  -66  144  189]\n",
      " [ -10   12  -44  144  168]] \n",
      " x/y \n",
      " [[ -8.          -1.66666667   0.18181818   0.          -0.23809524]\n",
      " [ -7.          -1.5         -0.54545455  -0.0625       0.0952381 ]\n",
      " [ -8.          -0.33333333  -0.54545455  -0.1875      -0.38095238]\n",
      " [ -7.           1.16666667  -0.54545455   0.5625       0.42857143]\n",
      " [-10.           0.33333333  -0.36363636   0.5625       0.38095238]] \n",
      "\n",
      " x \n",
      " [[ 64 100   4   0  25]\n",
      " [ 49  81  36   1   4]\n",
      " [ 64   4  36   9  64]\n",
      " [ 49  49  36  81  81]\n",
      " [100   4  16  81  64]] \n",
      " y \n",
      " [  1  36 121 256 441] \n",
      " z \n",
      " [0.00056709]\n"
     ]
    }
   ],
   "metadata": {}
  },
  {
   "cell_type": "markdown",
   "source": [
    "<h1>Pandas</h1>"
   ],
   "metadata": {}
  },
  {
   "cell_type": "code",
   "execution_count": 216,
   "source": [
    "import pandas as pd\r\n",
    "#Creating data...\r\n",
    "#From dictionary\r\n",
    "#1\r\n",
    "d = {'Day 1': [1, 2,3], 'Day 2': [3, 4,6],'Day 3': [2, 5,9],'Day 4': [3, 2,9],'Day 5': [1,1, 10]}\r\n",
    "df_1 = pd.DataFrame(data=d) \r\n",
    "df_1"
   ],
   "outputs": [
    {
     "output_type": "execute_result",
     "data": {
      "text/html": [
       "<div>\n",
       "<style scoped>\n",
       "    .dataframe tbody tr th:only-of-type {\n",
       "        vertical-align: middle;\n",
       "    }\n",
       "\n",
       "    .dataframe tbody tr th {\n",
       "        vertical-align: top;\n",
       "    }\n",
       "\n",
       "    .dataframe thead th {\n",
       "        text-align: right;\n",
       "    }\n",
       "</style>\n",
       "<table border=\"1\" class=\"dataframe\">\n",
       "  <thead>\n",
       "    <tr style=\"text-align: right;\">\n",
       "      <th></th>\n",
       "      <th>Day 1</th>\n",
       "      <th>Day 2</th>\n",
       "      <th>Day 3</th>\n",
       "      <th>Day 4</th>\n",
       "      <th>Day 5</th>\n",
       "    </tr>\n",
       "  </thead>\n",
       "  <tbody>\n",
       "    <tr>\n",
       "      <th>0</th>\n",
       "      <td>1</td>\n",
       "      <td>3</td>\n",
       "      <td>2</td>\n",
       "      <td>3</td>\n",
       "      <td>1</td>\n",
       "    </tr>\n",
       "    <tr>\n",
       "      <th>1</th>\n",
       "      <td>2</td>\n",
       "      <td>4</td>\n",
       "      <td>5</td>\n",
       "      <td>2</td>\n",
       "      <td>1</td>\n",
       "    </tr>\n",
       "    <tr>\n",
       "      <th>2</th>\n",
       "      <td>3</td>\n",
       "      <td>6</td>\n",
       "      <td>9</td>\n",
       "      <td>9</td>\n",
       "      <td>10</td>\n",
       "    </tr>\n",
       "  </tbody>\n",
       "</table>\n",
       "</div>"
      ],
      "text/plain": [
       "   Day 1  Day 2  Day 3  Day 4  Day 5\n",
       "0      1      3      2      3      1\n",
       "1      2      4      5      2      1\n",
       "2      3      6      9      9     10"
      ]
     },
     "metadata": {},
     "execution_count": 216
    }
   ],
   "metadata": {}
  },
  {
   "cell_type": "code",
   "execution_count": 217,
   "source": [
    "#2\r\n",
    "df_2 = pd.DataFrame.from_dict(d)\r\n",
    "df_2"
   ],
   "outputs": [
    {
     "output_type": "execute_result",
     "data": {
      "text/html": [
       "<div>\n",
       "<style scoped>\n",
       "    .dataframe tbody tr th:only-of-type {\n",
       "        vertical-align: middle;\n",
       "    }\n",
       "\n",
       "    .dataframe tbody tr th {\n",
       "        vertical-align: top;\n",
       "    }\n",
       "\n",
       "    .dataframe thead th {\n",
       "        text-align: right;\n",
       "    }\n",
       "</style>\n",
       "<table border=\"1\" class=\"dataframe\">\n",
       "  <thead>\n",
       "    <tr style=\"text-align: right;\">\n",
       "      <th></th>\n",
       "      <th>Day 1</th>\n",
       "      <th>Day 2</th>\n",
       "      <th>Day 3</th>\n",
       "      <th>Day 4</th>\n",
       "      <th>Day 5</th>\n",
       "    </tr>\n",
       "  </thead>\n",
       "  <tbody>\n",
       "    <tr>\n",
       "      <th>0</th>\n",
       "      <td>1</td>\n",
       "      <td>3</td>\n",
       "      <td>2</td>\n",
       "      <td>3</td>\n",
       "      <td>1</td>\n",
       "    </tr>\n",
       "    <tr>\n",
       "      <th>1</th>\n",
       "      <td>2</td>\n",
       "      <td>4</td>\n",
       "      <td>5</td>\n",
       "      <td>2</td>\n",
       "      <td>1</td>\n",
       "    </tr>\n",
       "    <tr>\n",
       "      <th>2</th>\n",
       "      <td>3</td>\n",
       "      <td>6</td>\n",
       "      <td>9</td>\n",
       "      <td>9</td>\n",
       "      <td>10</td>\n",
       "    </tr>\n",
       "  </tbody>\n",
       "</table>\n",
       "</div>"
      ],
      "text/plain": [
       "   Day 1  Day 2  Day 3  Day 4  Day 5\n",
       "0      1      3      2      3      1\n",
       "1      2      4      5      2      1\n",
       "2      3      6      9      9     10"
      ]
     },
     "metadata": {},
     "execution_count": 217
    }
   ],
   "metadata": {}
  },
  {
   "cell_type": "code",
   "execution_count": 218,
   "source": [
    "#From CSV\r\n",
    "df_2.to_csv('modified.csv',index=False)\r\n",
    "df_from_csv = pd.read_csv('modified.csv')\r\n",
    "df_from_csv"
   ],
   "outputs": [
    {
     "output_type": "execute_result",
     "data": {
      "text/html": [
       "<div>\n",
       "<style scoped>\n",
       "    .dataframe tbody tr th:only-of-type {\n",
       "        vertical-align: middle;\n",
       "    }\n",
       "\n",
       "    .dataframe tbody tr th {\n",
       "        vertical-align: top;\n",
       "    }\n",
       "\n",
       "    .dataframe thead th {\n",
       "        text-align: right;\n",
       "    }\n",
       "</style>\n",
       "<table border=\"1\" class=\"dataframe\">\n",
       "  <thead>\n",
       "    <tr style=\"text-align: right;\">\n",
       "      <th></th>\n",
       "      <th>Day 1</th>\n",
       "      <th>Day 2</th>\n",
       "      <th>Day 3</th>\n",
       "      <th>Day 4</th>\n",
       "      <th>Day 5</th>\n",
       "    </tr>\n",
       "  </thead>\n",
       "  <tbody>\n",
       "    <tr>\n",
       "      <th>0</th>\n",
       "      <td>1</td>\n",
       "      <td>3</td>\n",
       "      <td>2</td>\n",
       "      <td>3</td>\n",
       "      <td>1</td>\n",
       "    </tr>\n",
       "    <tr>\n",
       "      <th>1</th>\n",
       "      <td>2</td>\n",
       "      <td>4</td>\n",
       "      <td>5</td>\n",
       "      <td>2</td>\n",
       "      <td>1</td>\n",
       "    </tr>\n",
       "    <tr>\n",
       "      <th>2</th>\n",
       "      <td>3</td>\n",
       "      <td>6</td>\n",
       "      <td>9</td>\n",
       "      <td>9</td>\n",
       "      <td>10</td>\n",
       "    </tr>\n",
       "  </tbody>\n",
       "</table>\n",
       "</div>"
      ],
      "text/plain": [
       "   Day 1  Day 2  Day 3  Day 4  Day 5\n",
       "0      1      3      2      3      1\n",
       "1      2      4      5      2      1\n",
       "2      3      6      9      9     10"
      ]
     },
     "metadata": {},
     "execution_count": 218
    }
   ],
   "metadata": {}
  },
  {
   "cell_type": "code",
   "execution_count": 219,
   "source": [
    "#Reading data...\r\n",
    "#head()\r\n",
    "df_from_csv.head(1)"
   ],
   "outputs": [
    {
     "output_type": "execute_result",
     "data": {
      "text/html": [
       "<div>\n",
       "<style scoped>\n",
       "    .dataframe tbody tr th:only-of-type {\n",
       "        vertical-align: middle;\n",
       "    }\n",
       "\n",
       "    .dataframe tbody tr th {\n",
       "        vertical-align: top;\n",
       "    }\n",
       "\n",
       "    .dataframe thead th {\n",
       "        text-align: right;\n",
       "    }\n",
       "</style>\n",
       "<table border=\"1\" class=\"dataframe\">\n",
       "  <thead>\n",
       "    <tr style=\"text-align: right;\">\n",
       "      <th></th>\n",
       "      <th>Day 1</th>\n",
       "      <th>Day 2</th>\n",
       "      <th>Day 3</th>\n",
       "      <th>Day 4</th>\n",
       "      <th>Day 5</th>\n",
       "    </tr>\n",
       "  </thead>\n",
       "  <tbody>\n",
       "    <tr>\n",
       "      <th>0</th>\n",
       "      <td>1</td>\n",
       "      <td>3</td>\n",
       "      <td>2</td>\n",
       "      <td>3</td>\n",
       "      <td>1</td>\n",
       "    </tr>\n",
       "  </tbody>\n",
       "</table>\n",
       "</div>"
      ],
      "text/plain": [
       "   Day 1  Day 2  Day 3  Day 4  Day 5\n",
       "0      1      3      2      3      1"
      ]
     },
     "metadata": {},
     "execution_count": 219
    }
   ],
   "metadata": {}
  },
  {
   "cell_type": "code",
   "execution_count": 220,
   "source": [
    "df = pd.DataFrame([[1025648, 1.35], [15325643, 413.65], [1241523, 3.78]],\r\n",
    "     index=['MATIC', 'BNB', 'SOL'],\r\n",
    "     columns=['24h Trading Volume', 'price in USD'])\r\n",
    "df.to_csv('data.csv')\r\n",
    "df"
   ],
   "outputs": [
    {
     "output_type": "execute_result",
     "data": {
      "text/html": [
       "<div>\n",
       "<style scoped>\n",
       "    .dataframe tbody tr th:only-of-type {\n",
       "        vertical-align: middle;\n",
       "    }\n",
       "\n",
       "    .dataframe tbody tr th {\n",
       "        vertical-align: top;\n",
       "    }\n",
       "\n",
       "    .dataframe thead th {\n",
       "        text-align: right;\n",
       "    }\n",
       "</style>\n",
       "<table border=\"1\" class=\"dataframe\">\n",
       "  <thead>\n",
       "    <tr style=\"text-align: right;\">\n",
       "      <th></th>\n",
       "      <th>24h Trading Volume</th>\n",
       "      <th>price in USD</th>\n",
       "    </tr>\n",
       "  </thead>\n",
       "  <tbody>\n",
       "    <tr>\n",
       "      <th>MATIC</th>\n",
       "      <td>1025648</td>\n",
       "      <td>1.35</td>\n",
       "    </tr>\n",
       "    <tr>\n",
       "      <th>BNB</th>\n",
       "      <td>15325643</td>\n",
       "      <td>413.65</td>\n",
       "    </tr>\n",
       "    <tr>\n",
       "      <th>SOL</th>\n",
       "      <td>1241523</td>\n",
       "      <td>3.78</td>\n",
       "    </tr>\n",
       "  </tbody>\n",
       "</table>\n",
       "</div>"
      ],
      "text/plain": [
       "       24h Trading Volume  price in USD\n",
       "MATIC             1025648          1.35\n",
       "BNB              15325643        413.65\n",
       "SOL               1241523          3.78"
      ]
     },
     "metadata": {},
     "execution_count": 220
    }
   ],
   "metadata": {}
  },
  {
   "cell_type": "code",
   "execution_count": 221,
   "source": [
    "#loc[]\r\n",
    "df.loc[\"MATIC\"]"
   ],
   "outputs": [
    {
     "output_type": "execute_result",
     "data": {
      "text/plain": [
       "24h Trading Volume    1025648.00\n",
       "price in USD                1.35\n",
       "Name: MATIC, dtype: float64"
      ]
     },
     "metadata": {},
     "execution_count": 221
    }
   ],
   "metadata": {}
  },
  {
   "cell_type": "code",
   "execution_count": 222,
   "source": [
    "#iloc[]\r\n",
    "df.iloc[0:2]"
   ],
   "outputs": [
    {
     "output_type": "execute_result",
     "data": {
      "text/html": [
       "<div>\n",
       "<style scoped>\n",
       "    .dataframe tbody tr th:only-of-type {\n",
       "        vertical-align: middle;\n",
       "    }\n",
       "\n",
       "    .dataframe tbody tr th {\n",
       "        vertical-align: top;\n",
       "    }\n",
       "\n",
       "    .dataframe thead th {\n",
       "        text-align: right;\n",
       "    }\n",
       "</style>\n",
       "<table border=\"1\" class=\"dataframe\">\n",
       "  <thead>\n",
       "    <tr style=\"text-align: right;\">\n",
       "      <th></th>\n",
       "      <th>24h Trading Volume</th>\n",
       "      <th>price in USD</th>\n",
       "    </tr>\n",
       "  </thead>\n",
       "  <tbody>\n",
       "    <tr>\n",
       "      <th>MATIC</th>\n",
       "      <td>1025648</td>\n",
       "      <td>1.35</td>\n",
       "    </tr>\n",
       "    <tr>\n",
       "      <th>BNB</th>\n",
       "      <td>15325643</td>\n",
       "      <td>413.65</td>\n",
       "    </tr>\n",
       "  </tbody>\n",
       "</table>\n",
       "</div>"
      ],
      "text/plain": [
       "       24h Trading Volume  price in USD\n",
       "MATIC             1025648          1.35\n",
       "BNB              15325643        413.65"
      ]
     },
     "metadata": {},
     "execution_count": 222
    }
   ],
   "metadata": {}
  },
  {
   "cell_type": "code",
   "execution_count": 223,
   "source": [
    "#describe()\r\n",
    "df.describe()"
   ],
   "outputs": [
    {
     "output_type": "execute_result",
     "data": {
      "text/html": [
       "<div>\n",
       "<style scoped>\n",
       "    .dataframe tbody tr th:only-of-type {\n",
       "        vertical-align: middle;\n",
       "    }\n",
       "\n",
       "    .dataframe tbody tr th {\n",
       "        vertical-align: top;\n",
       "    }\n",
       "\n",
       "    .dataframe thead th {\n",
       "        text-align: right;\n",
       "    }\n",
       "</style>\n",
       "<table border=\"1\" class=\"dataframe\">\n",
       "  <thead>\n",
       "    <tr style=\"text-align: right;\">\n",
       "      <th></th>\n",
       "      <th>24h Trading Volume</th>\n",
       "      <th>price in USD</th>\n",
       "    </tr>\n",
       "  </thead>\n",
       "  <tbody>\n",
       "    <tr>\n",
       "      <th>count</th>\n",
       "      <td>3.000000e+00</td>\n",
       "      <td>3.000000</td>\n",
       "    </tr>\n",
       "    <tr>\n",
       "      <th>mean</th>\n",
       "      <td>5.864271e+06</td>\n",
       "      <td>139.593333</td>\n",
       "    </tr>\n",
       "    <tr>\n",
       "      <th>std</th>\n",
       "      <td>8.194499e+06</td>\n",
       "      <td>237.343145</td>\n",
       "    </tr>\n",
       "    <tr>\n",
       "      <th>min</th>\n",
       "      <td>1.025648e+06</td>\n",
       "      <td>1.350000</td>\n",
       "    </tr>\n",
       "    <tr>\n",
       "      <th>25%</th>\n",
       "      <td>1.133586e+06</td>\n",
       "      <td>2.565000</td>\n",
       "    </tr>\n",
       "    <tr>\n",
       "      <th>50%</th>\n",
       "      <td>1.241523e+06</td>\n",
       "      <td>3.780000</td>\n",
       "    </tr>\n",
       "    <tr>\n",
       "      <th>75%</th>\n",
       "      <td>8.283583e+06</td>\n",
       "      <td>208.715000</td>\n",
       "    </tr>\n",
       "    <tr>\n",
       "      <th>max</th>\n",
       "      <td>1.532564e+07</td>\n",
       "      <td>413.650000</td>\n",
       "    </tr>\n",
       "  </tbody>\n",
       "</table>\n",
       "</div>"
      ],
      "text/plain": [
       "       24h Trading Volume  price in USD\n",
       "count        3.000000e+00      3.000000\n",
       "mean         5.864271e+06    139.593333\n",
       "std          8.194499e+06    237.343145\n",
       "min          1.025648e+06      1.350000\n",
       "25%          1.133586e+06      2.565000\n",
       "50%          1.241523e+06      3.780000\n",
       "75%          8.283583e+06    208.715000\n",
       "max          1.532564e+07    413.650000"
      ]
     },
     "metadata": {},
     "execution_count": 223
    }
   ],
   "metadata": {}
  },
  {
   "cell_type": "markdown",
   "source": [
    "<h1>Matplotlib </h1>"
   ],
   "metadata": {}
  },
  {
   "cell_type": "code",
   "execution_count": 224,
   "source": [
    "import matplotlib.pyplot as plt\r\n",
    "import math\r\n",
    "\r\n",
    "x = np.arange(1,10,1)\r\n",
    "y = x + 2\r\n",
    "y_hat = np.copy(y)\r\n",
    "\r\n",
    "for i in range(len(y_hat)):\r\n",
    "    y_hat[i] += np.random.randint(-3,3,size=1)\r\n",
    "\r\n",
    "error = y - y_hat\r\n",
    "mae = abs(error) \r\n",
    "mse = error ** 2\r\n",
    "\r\n",
    "d = {'X': x, 'Y': y,'Y_hat': y_hat,'error': error,'MAE': mae,'MSE':mse}\r\n",
    "df = pd.DataFrame(data=d)\r\n",
    "df.to_csv('graph_data.csv')\r\n",
    "\r\n",
    "plt.plot(x,y_hat,\"b\")\r\n",
    "plt.plot(x,y, 'r')\r\n",
    "print(\"y->\",y,\"y_hat->\",y_hat,\r\n",
    "        \"\\nerror->\",error,\r\n",
    "        \"MAE->\",mae,\r\n",
    "        \"MSE->\",mse)\r\n",
    "plt.show()\r\n",
    "df"
   ],
   "outputs": [
    {
     "output_type": "stream",
     "name": "stdout",
     "text": [
      "y-> [ 3  4  5  6  7  8  9 10 11] y_hat-> [ 4  5  2  5  6  5  7  7 13] \n",
      "error-> [-1 -1  3  1  1  3  2  3 -2] MAE-> [1 1 3 1 1 3 2 3 2] MSE-> [1 1 9 1 1 9 4 9 4]\n"
     ]
    },
    {
     "output_type": "display_data",
     "data": {
      "image/png": "[encoded data removed]",
      "text/plain": [
       "<Figure size 432x288 with 1 Axes>"
      ]
     },
     "metadata": {
      "needs_background": "light"
     }
    },
    {
     "output_type": "execute_result",
     "data": {
      "text/html": [
       "<div>\n",
       "<style scoped>\n",
       "    .dataframe tbody tr th:only-of-type {\n",
       "        vertical-align: middle;\n",
       "    }\n",
       "\n",
       "    .dataframe tbody tr th {\n",
       "        vertical-align: top;\n",
       "    }\n",
       "\n",
       "    .dataframe thead th {\n",
       "        text-align: right;\n",
       "    }\n",
       "</style>\n",
       "<table border=\"1\" class=\"dataframe\">\n",
       "  <thead>\n",
       "    <tr style=\"text-align: right;\">\n",
       "      <th></th>\n",
       "      <th>X</th>\n",
       "      <th>Y</th>\n",
       "      <th>Y_hat</th>\n",
       "      <th>error</th>\n",
       "      <th>MAE</th>\n",
       "      <th>MSE</th>\n",
       "    </tr>\n",
       "  </thead>\n",
       "  <tbody>\n",
       "    <tr>\n",
       "      <th>0</th>\n",
       "      <td>1</td>\n",
       "      <td>3</td>\n",
       "      <td>4</td>\n",
       "      <td>-1</td>\n",
       "      <td>1</td>\n",
       "      <td>1</td>\n",
       "    </tr>\n",
       "    <tr>\n",
       "      <th>1</th>\n",
       "      <td>2</td>\n",
       "      <td>4</td>\n",
       "      <td>5</td>\n",
       "      <td>-1</td>\n",
       "      <td>1</td>\n",
       "      <td>1</td>\n",
       "    </tr>\n",
       "    <tr>\n",
       "      <th>2</th>\n",
       "      <td>3</td>\n",
       "      <td>5</td>\n",
       "      <td>2</td>\n",
       "      <td>3</td>\n",
       "      <td>3</td>\n",
       "      <td>9</td>\n",
       "    </tr>\n",
       "    <tr>\n",
       "      <th>3</th>\n",
       "      <td>4</td>\n",
       "      <td>6</td>\n",
       "      <td>5</td>\n",
       "      <td>1</td>\n",
       "      <td>1</td>\n",
       "      <td>1</td>\n",
       "    </tr>\n",
       "    <tr>\n",
       "      <th>4</th>\n",
       "      <td>5</td>\n",
       "      <td>7</td>\n",
       "      <td>6</td>\n",
       "      <td>1</td>\n",
       "      <td>1</td>\n",
       "      <td>1</td>\n",
       "    </tr>\n",
       "    <tr>\n",
       "      <th>5</th>\n",
       "      <td>6</td>\n",
       "      <td>8</td>\n",
       "      <td>5</td>\n",
       "      <td>3</td>\n",
       "      <td>3</td>\n",
       "      <td>9</td>\n",
       "    </tr>\n",
       "    <tr>\n",
       "      <th>6</th>\n",
       "      <td>7</td>\n",
       "      <td>9</td>\n",
       "      <td>7</td>\n",
       "      <td>2</td>\n",
       "      <td>2</td>\n",
       "      <td>4</td>\n",
       "    </tr>\n",
       "    <tr>\n",
       "      <th>7</th>\n",
       "      <td>8</td>\n",
       "      <td>10</td>\n",
       "      <td>7</td>\n",
       "      <td>3</td>\n",
       "      <td>3</td>\n",
       "      <td>9</td>\n",
       "    </tr>\n",
       "    <tr>\n",
       "      <th>8</th>\n",
       "      <td>9</td>\n",
       "      <td>11</td>\n",
       "      <td>13</td>\n",
       "      <td>-2</td>\n",
       "      <td>2</td>\n",
       "      <td>4</td>\n",
       "    </tr>\n",
       "  </tbody>\n",
       "</table>\n",
       "</div>"
      ],
      "text/plain": [
       "   X   Y  Y_hat  error  MAE  MSE\n",
       "0  1   3      4     -1    1    1\n",
       "1  2   4      5     -1    1    1\n",
       "2  3   5      2      3    3    9\n",
       "3  4   6      5      1    1    1\n",
       "4  5   7      6      1    1    1\n",
       "5  6   8      5      3    3    9\n",
       "6  7   9      7      2    2    4\n",
       "7  8  10      7      3    3    9\n",
       "8  9  11     13     -2    2    4"
      ]
     },
     "metadata": {},
     "execution_count": 224
    }
   ],
   "metadata": {}
  }
 ],
 "metadata": {
  "orig_nbformat": 4,
  "language_info": {
   "name": "python",
   "version": "3.8.8",
   "mimetype": "text/x-python",
   "codemirror_mode": {
    "name": "ipython",
    "version": 3
   },
   "pygments_lexer": "ipython3",
   "nbconvert_exporter": "python",
   "file_extension": ".py"
  },
  "kernelspec": {
   "name": "python3",
   "display_name": "Python 3.8.8 64-bit ('base': conda)"
  },
  "interpreter": {
   "hash": "6ef99b769e18be2f13503555faffbd026a35af316404c854be86511d84251ebf"
  }
 },
 "nbformat": 4,
 "nbformat_minor": 2
}