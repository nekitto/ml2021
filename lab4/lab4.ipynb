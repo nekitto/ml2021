{
 "cells": [
  {
   "cell_type": "code",
   "execution_count": 1,
   "source": [
    "import tensorflow as tf\r\n",
    "import numpy as np\r\n",
    "import matplotlib.pyplot as plt\r\n",
    "import numpy as np\r\n",
    "import sklearn.metrics as metrics\r\n",
    "import pandas as pd\r\n",
    "import seaborn as sns"
   ],
   "outputs": [
    {
     "output_type": "error",
     "ename": "ModuleNotFoundError",
     "evalue": "No module named 'tensorflow'",
     "traceback": [
      "\u001b[1;31m---------------------------------------------------------------------------\u001b[0m",
      "\u001b[1;31mModuleNotFoundError\u001b[0m                       Traceback (most recent call last)",
      "\u001b[1;32m<ipython-input-1-36e5ed0cb5c8>\u001b[0m in \u001b[0;36m<module>\u001b[1;34m\u001b[0m\n\u001b[1;32m----> 1\u001b[1;33m \u001b[1;32mimport\u001b[0m \u001b[0mtensorflow\u001b[0m \u001b[1;32mas\u001b[0m \u001b[0mtf\u001b[0m\u001b[1;33m\u001b[0m\u001b[1;33m\u001b[0m\u001b[0m\n\u001b[0m\u001b[0;32m      2\u001b[0m \u001b[1;32mimport\u001b[0m \u001b[0mnumpy\u001b[0m \u001b[1;32mas\u001b[0m \u001b[0mnp\u001b[0m\u001b[1;33m\u001b[0m\u001b[1;33m\u001b[0m\u001b[0m\n\u001b[0;32m      3\u001b[0m \u001b[1;32mimport\u001b[0m \u001b[0mmatplotlib\u001b[0m\u001b[1;33m.\u001b[0m\u001b[0mpyplot\u001b[0m \u001b[1;32mas\u001b[0m \u001b[0mplt\u001b[0m\u001b[1;33m\u001b[0m\u001b[1;33m\u001b[0m\u001b[0m\n\u001b[0;32m      4\u001b[0m \u001b[1;32mimport\u001b[0m \u001b[0mnumpy\u001b[0m \u001b[1;32mas\u001b[0m \u001b[0mnp\u001b[0m\u001b[1;33m\u001b[0m\u001b[1;33m\u001b[0m\u001b[0m\n\u001b[0;32m      5\u001b[0m \u001b[1;32mimport\u001b[0m \u001b[0msklearn\u001b[0m\u001b[1;33m.\u001b[0m\u001b[0mmetrics\u001b[0m \u001b[1;32mas\u001b[0m \u001b[0mmetrics\u001b[0m\u001b[1;33m\u001b[0m\u001b[1;33m\u001b[0m\u001b[0m\n",
      "\u001b[1;31mModuleNotFoundError\u001b[0m: No module named 'tensorflow'"
     ]
    }
   ],
   "metadata": {}
  },
  {
   "cell_type": "code",
   "execution_count": null,
   "source": [
    "tf1 = tf.constant([[10, 20], [30, 40]])\r\n",
    "print(tf1)\r\n",
    "#(crud)\r\n",
    "print(np.square(tf1))\r\n",
    "# convert to numPy object\r\n",
    "tf1 = tf1 + 100\r\n",
    "print(tf1)\r\n",
    "# update\r\n",
    "tf1_without_2nd_row = tf.gather(tf1, [0])\r\n",
    "print(tf1_without_2nd_row)"
   ],
   "outputs": [
    {
     "output_type": "stream",
     "name": "stdout",
     "text": [
      "tf.Tensor(\n",
      "[[10 20]\n",
      " [30 40]], shape=(2, 2), dtype=int32)\n",
      "[[ 100  400]\n",
      " [ 900 1600]]\n",
      "tf.Tensor(\n",
      "[[110 120]\n",
      " [130 140]], shape=(2, 2), dtype=int32)\n",
      "tf.Tensor([[110 120]], shape=(1, 2), dtype=int32)\n"
     ]
    }
   ],
   "metadata": {}
  },
  {
   "cell_type": "code",
   "execution_count": null,
   "source": [
    "scalar = tf.constant(10)\r\n",
    "scalar"
   ],
   "outputs": [
    {
     "output_type": "execute_result",
     "data": {
      "text/plain": [
       "<tf.Tensor: shape=(), dtype=int32, numpy=10>"
      ]
     },
     "metadata": {},
     "execution_count": 7
    }
   ],
   "metadata": {}
  },
  {
   "cell_type": "code",
   "execution_count": null,
   "source": [
    "scalar.ndim"
   ],
   "outputs": [
    {
     "output_type": "execute_result",
     "data": {
      "text/plain": [
       "0"
      ]
     },
     "metadata": {},
     "execution_count": 8
    }
   ],
   "metadata": {}
  },
  {
   "cell_type": "code",
   "execution_count": null,
   "source": [
    "vector = tf.constant([19, 11.2])\r\n",
    "vector"
   ],
   "outputs": [
    {
     "output_type": "execute_result",
     "data": {
      "text/plain": [
       "<tf.Tensor: shape=(2,), dtype=float32, numpy=array([19. , 11.2], dtype=float32)>"
      ]
     },
     "metadata": {},
     "execution_count": 9
    }
   ],
   "metadata": {}
  },
  {
   "cell_type": "code",
   "execution_count": null,
   "source": [
    "vector.ndim"
   ],
   "outputs": [
    {
     "output_type": "execute_result",
     "data": {
      "text/plain": [
       "1"
      ]
     },
     "metadata": {},
     "execution_count": 10
    }
   ],
   "metadata": {}
  },
  {
   "cell_type": "code",
   "execution_count": null,
   "source": [
    "mat1 = tf.constant([[10, 20],\r\n",
    "             [30, 40]])\r\n",
    "mat1"
   ],
   "outputs": [
    {
     "output_type": "execute_result",
     "data": {
      "text/plain": [
       "<tf.Tensor: shape=(2, 2), dtype=int32, numpy=\n",
       "array([[10, 20],\n",
       "       [30, 40]])>"
      ]
     },
     "metadata": {},
     "execution_count": 12
    }
   ],
   "metadata": {}
  },
  {
   "cell_type": "code",
   "execution_count": null,
   "source": [
    "mat1.ndim"
   ],
   "outputs": [
    {
     "output_type": "execute_result",
     "data": {
      "text/plain": [
       "2"
      ]
     },
     "metadata": {},
     "execution_count": 13
    }
   ],
   "metadata": {}
  },
  {
   "cell_type": "code",
   "execution_count": null,
   "source": [
    "mat2 = tf.constant([[10., 40.],\r\n",
    "                    [30., 20.],\r\n",
    "                    [50., 60.]], dtype=tf.float16)\r\n",
    "\r\n",
    "mat2"
   ],
   "outputs": [
    {
     "output_type": "execute_result",
     "data": {
      "text/plain": [
       "<tf.Tensor: shape=(3, 2), dtype=float16, numpy=\n",
       "array([[10., 40.],\n",
       "       [30., 20.],\n",
       "       [50., 60.]], dtype=float16)>"
      ]
     },
     "metadata": {},
     "execution_count": 14
    }
   ],
   "metadata": {}
  },
  {
   "cell_type": "code",
   "execution_count": null,
   "source": [
    "mat2.ndim"
   ],
   "outputs": [
    {
     "output_type": "execute_result",
     "data": {
      "text/plain": [
       "2"
      ]
     },
     "metadata": {},
     "execution_count": 15
    }
   ],
   "metadata": {}
  },
  {
   "cell_type": "code",
   "execution_count": null,
   "source": [
    "tensor = tf.constant([[[10, 20, 30,],\r\n",
    "                       [40, 50, 60]],\r\n",
    "                      [[70, 80, 90],\r\n",
    "                       [100, 110, 120]],\r\n",
    "                      [[130, 140, 150],\r\n",
    "                       [160, 170, 180]]])\r\n",
    "tensor"
   ],
   "outputs": [
    {
     "output_type": "execute_result",
     "data": {
      "text/plain": [
       "<tf.Tensor: shape=(3, 2, 3), dtype=int32, numpy=\n",
       "array([[[ 10,  20,  30],\n",
       "        [ 40,  50,  60]],\n",
       "\n",
       "       [[ 70,  80,  90],\n",
       "        [100, 110, 120]],\n",
       "\n",
       "       [[130, 140, 150],\n",
       "        [160, 170, 180]]])>"
      ]
     },
     "metadata": {},
     "execution_count": 17
    }
   ],
   "metadata": {}
  },
  {
   "cell_type": "code",
   "execution_count": null,
   "source": [
    "tensor.ndim"
   ],
   "outputs": [
    {
     "output_type": "execute_result",
     "data": {
      "text/plain": [
       "3"
      ]
     },
     "metadata": {},
     "execution_count": 18
    }
   ],
   "metadata": {}
  },
  {
   "cell_type": "markdown",
   "source": [
    "Random tensors"
   ],
   "metadata": {}
  },
  {
   "cell_type": "code",
   "execution_count": null,
   "source": [
    "random_1 = tf.random.Generator.from_seed(70)\r\n",
    "random_1 = random_1.normal(shape=(40, 20))\r\n",
    "random_2 = tf.random.Generator.from_seed(10)\r\n",
    "random_2 = random_2.normal(shape=(50, 30))"
   ],
   "outputs": [],
   "metadata": {}
  },
  {
   "cell_type": "markdown",
   "source": [
    "DataFrame into TensorFlow"
   ],
   "metadata": {}
  },
  {
   "cell_type": "code",
   "execution_count": null,
   "source": [
    "df2 = pd.DataFrame(np.random.randint(0, 10, (5, 5)), columns=[\"1\", \"2\", \"3\", \"4\", \"5\"])\r\n",
    "print(df2)\r\n",
    "print(df2.describe(include='all'))"
   ],
   "outputs": [
    {
     "output_type": "stream",
     "name": "stdout",
     "text": [
      "   1  2  3  4  5\n",
      "0  2  5  0  2  5\n",
      "1  6  1  5  8  9\n",
      "2  5  6  1  3  2\n",
      "3  2  0  1  3  7\n",
      "4  4  6  7  6  4\n",
      "              1         2        3        4         5\n",
      "count  5.000000  5.000000  5.00000  5.00000  5.000000\n",
      "mean   3.800000  3.600000  2.80000  4.40000  5.400000\n",
      "std    1.788854  2.880972  3.03315  2.50998  2.701851\n",
      "min    2.000000  0.000000  0.00000  2.00000  2.000000\n",
      "25%    2.000000  1.000000  1.00000  3.00000  4.000000\n",
      "50%    4.000000  5.000000  1.00000  3.00000  5.000000\n",
      "75%    5.000000  6.000000  5.00000  6.00000  7.000000\n",
      "max    6.000000  6.000000  7.00000  8.00000  9.000000\n"
     ]
    }
   ],
   "metadata": {}
  },
  {
   "cell_type": "code",
   "execution_count": null,
   "source": [
    "training_df: pd.DataFrame = pd.DataFrame(\r\n",
    "    data={\r\n",
    "        'feature1': np.random.rand(10),\r\n",
    "        'feature2': np.random.rand(10),\r\n",
    "        'feature3': np.random.rand(10),\r\n",
    "        'target': np.random.randint(0, 3, 10)\r\n",
    "    }\r\n",
    ")\r\n",
    "features = ['feature1', 'feature2', 'feature3']\r\n",
    "print(training_df)\r\n",
    "\r\n",
    "training_dataset = (\r\n",
    "    tf.data.Dataset.from_tensor_slices(\r\n",
    "        (\r\n",
    "            tf.cast(training_df[features].values, tf.float32),\r\n",
    "            tf.cast(training_df['target'].values, tf.int32)\r\n",
    "        )\r\n",
    "    )\r\n",
    ")\r\n",
    "\r\n",
    "for features_tensor, target_tensor in training_dataset:\r\n",
    "    print(f'features:{features_tensor} target:{target_tensor}')"
   ],
   "outputs": [
    {
     "output_type": "stream",
     "name": "stdout",
     "text": [
      "   feature1  feature2  feature3  target\n",
      "0  0.505909  0.905811  0.241889       1\n",
      "1  0.186832  0.272687  0.996697       2\n",
      "2  0.259384  0.334580  0.415091       0\n",
      "3  0.770993  0.029114  0.153532       1\n",
      "4  0.952453  0.481497  0.177529       2\n",
      "5  0.151411  0.551008  0.642280       2\n",
      "6  0.184554  0.916006  0.973663       0\n",
      "7  0.121226  0.840048  0.078949       1\n",
      "8  0.733001  0.845125  0.500431       1\n",
      "9  0.898083  0.198218  0.653549       1\n",
      "features:[0.5059095  0.905811   0.24188922] target:1\n",
      "features:[0.18683207 0.2726868  0.996697  ] target:2\n",
      "features:[0.25938386 0.33458045 0.4150908 ] target:0\n",
      "features:[0.7709927  0.02911428 0.15353188] target:1\n",
      "features:[0.95245343 0.4814969  0.1775292 ] target:2\n",
      "features:[0.15141143 0.5510075  0.6422798 ] target:2\n",
      "features:[0.18455377 0.9160061  0.9736629 ] target:0\n",
      "features:[0.12122595 0.84004813 0.07894888] target:1\n",
      "features:[0.7330005  0.84512544 0.50043094] target:1\n",
      "features:[0.89808345 0.19821762 0.65354896] target:1\n"
     ]
    }
   ],
   "metadata": {}
  },
  {
   "cell_type": "markdown",
   "source": [
    "Analyze with Matplotlib"
   ],
   "metadata": {}
  },
  {
   "cell_type": "code",
   "execution_count": null,
   "source": [
    "x = np.arange(0, 15, 0.5)\r\n",
    "y1 = x * 1.5\r\n",
    "\r\n",
    "adder = np.random.random(len(x)) * 1.4 - 0.7\r\n",
    "y2 = y1 + adder\r\n",
    "\r\n",
    "plt.figure()\r\n",
    "plt.grid()\r\n",
    "plt.xticks(x)\r\n",
    "plt.yticks(range(int(x[-1] * 1.5 + 1)))\r\n",
    "plt.xlabel('X Axis')\r\n",
    "plt.ylabel('Y Axis')\r\n",
    "\r\n",
    "plt.plot(x, y1, \"r--\", label=\"teoretic\")\r\n",
    "plt.plot(x, y2, \"b\", label=\"result\")\r\n",
    "\r\n",
    "plt.legend()\r\n",
    "plt.show()"
   ],
   "outputs": [
    {
     "output_type": "display_data",
     "data": {
      "image/png": "[encoded data removed]",
      "text/plain": [
       "<Figure size 432x288 with 1 Axes>"
      ]
     },
     "metadata": {
      "needs_background": "light"
     }
    }
   ],
   "metadata": {}
  },
  {
   "cell_type": "code",
   "execution_count": null,
   "source": [
    "mae = metrics.mean_absolute_error(y2, y1)\r\n",
    "mse = metrics.mean_squared_error(y2, y1)\r\n",
    "print(mae)\r\n",
    "print(mse)"
   ],
   "outputs": [
    {
     "output_type": "stream",
     "name": "stdout",
     "text": [
      "0.3960335538198469\n",
      "0.18102692568923484\n"
     ]
    }
   ],
   "metadata": {}
  },
  {
   "cell_type": "code",
   "execution_count": null,
   "source": [
    "df = pd.DataFrame(np.array([x, y2, y1]).swapaxes(0,1), columns=['X', 'Y', 'Y_hat'])\r\n",
    "print(df)\r\n",
    "with open('res.csv', 'w') as f:\r\n",
    "    f.write(df.to_csv(index=False))"
   ],
   "outputs": [
    {
     "output_type": "stream",
     "name": "stdout",
     "text": [
      "       X          Y  Y_hat\n",
      "0    0.0  -0.229677   0.00\n",
      "1    0.5   0.288670   0.75\n",
      "2    1.0   1.765567   1.50\n",
      "3    1.5   2.081388   2.25\n",
      "4    2.0   3.446241   3.00\n",
      "5    2.5   3.103240   3.75\n",
      "6    3.0   4.065354   4.50\n",
      "7    3.5   5.420205   5.25\n",
      "8    4.0   5.679634   6.00\n",
      "9    4.5   6.617425   6.75\n",
      "10   5.0   7.064139   7.50\n",
      "11   5.5   8.078989   8.25\n",
      "12   6.0   9.438395   9.00\n",
      "13   6.5  10.224790   9.75\n",
      "14   7.0   9.875983  10.50\n",
      "15   7.5  10.785112  11.25\n",
      "16   8.0  12.529983  12.00\n",
      "17   8.5  12.408308  12.75\n",
      "18   9.0  12.815528  13.50\n",
      "19   9.5  13.741801  14.25\n",
      "20  10.0  14.612019  15.00\n",
      "21  10.5  15.342667  15.75\n",
      "22  11.0  16.237598  16.50\n",
      "23  11.5  17.608225  17.25\n",
      "24  12.0  17.616121  18.00\n",
      "25  12.5  18.247443  18.75\n",
      "26  13.0  18.863645  19.50\n",
      "27  13.5  20.033843  20.25\n",
      "28  14.0  21.192161  21.00\n",
      "29  14.5  21.165332  21.75\n"
     ]
    }
   ],
   "metadata": {}
  },
  {
   "cell_type": "markdown",
   "source": [
    "Regression"
   ],
   "metadata": {}
  },
  {
   "cell_type": "code",
   "execution_count": null,
   "source": [
    "input_shape = x[0].shape \r\n",
    "output_shape = y1[0].shape\r\n",
    "input_shape, output_shape \r\n",
    "\r\n",
    "tf.random.set_seed(42)\r\n",
    "\r\n",
    "model = tf.keras.Sequential([\r\n",
    "  tf.keras.layers.Dense(1)\r\n",
    "])\r\n",
    "\r\n",
    "model.compile(loss=tf.keras.losses.mae,\r\n",
    "              optimizer=tf.keras.optimizers.SGD(),\r\n",
    "              metrics=[\"mae\"])\r\n",
    "\r\n",
    "model.fit(x, y1, epochs=80)"
   ],
   "outputs": [
    {
     "output_type": "stream",
     "name": "stdout",
     "text": [
      "Epoch 1/80\n",
      "1/1 [==============================] - 0s 176ms/step - loss: 6.7421 - mae: 6.7421\n",
      "Epoch 2/80\n",
      "1/1 [==============================] - 0s 8ms/step - loss: 6.2074 - mae: 6.2074\n",
      "Epoch 3/80\n",
      "1/1 [==============================] - 0s 0s/step - loss: 5.6731 - mae: 5.6731\n",
      "Epoch 4/80\n",
      "1/1 [==============================] - 0s 0s/step - loss: 5.1387 - mae: 5.1387\n",
      "Epoch 5/80\n",
      "1/1 [==============================] - 0s 8ms/step - loss: 4.6044 - mae: 4.6044\n",
      "Epoch 6/80\n",
      "1/1 [==============================] - 0s 0s/step - loss: 4.0701 - mae: 4.0701\n",
      "Epoch 7/80\n",
      "1/1 [==============================] - 0s 0s/step - loss: 3.5357 - mae: 3.5357\n",
      "Epoch 8/80\n",
      "1/1 [==============================] - 0s 8ms/step - loss: 3.0014 - mae: 3.0014\n",
      "Epoch 9/80\n",
      "1/1 [==============================] - 0s 0s/step - loss: 2.4671 - mae: 2.4671\n",
      "Epoch 10/80\n",
      "1/1 [==============================] - 0s 0s/step - loss: 1.9327 - mae: 1.9327\n",
      "Epoch 11/80\n",
      "1/1 [==============================] - 0s 0s/step - loss: 1.3984 - mae: 1.3984\n",
      "Epoch 12/80\n",
      "1/1 [==============================] - 0s 0s/step - loss: 0.8665 - mae: 0.8665\n",
      "Epoch 13/80\n",
      "1/1 [==============================] - 0s 0s/step - loss: 0.3430 - mae: 0.3430\n",
      "Epoch 14/80\n",
      "1/1 [==============================] - 0s 0s/step - loss: 0.1931 - mae: 0.1931\n",
      "Epoch 15/80\n",
      "1/1 [==============================] - 0s 0s/step - loss: 0.3591 - mae: 0.3591\n",
      "Epoch 16/80\n",
      "1/1 [==============================] - 0s 8ms/step - loss: 0.1760 - mae: 0.1760\n",
      "Epoch 17/80\n",
      "1/1 [==============================] - 0s 0s/step - loss: 0.3752 - mae: 0.3752\n",
      "Epoch 18/80\n",
      "1/1 [==============================] - 0s 0s/step - loss: 0.1588 - mae: 0.1588\n",
      "Epoch 19/80\n",
      "1/1 [==============================] - 0s 0s/step - loss: 0.3912 - mae: 0.3912\n",
      "Epoch 20/80\n",
      "1/1 [==============================] - 0s 0s/step - loss: 0.1416 - mae: 0.1416\n",
      "Epoch 21/80\n",
      "1/1 [==============================] - 0s 0s/step - loss: 0.4074 - mae: 0.4074\n",
      "Epoch 22/80\n",
      "1/1 [==============================] - 0s 0s/step - loss: 0.1324 - mae: 0.1324\n",
      "Epoch 23/80\n",
      "1/1 [==============================] - 0s 8ms/step - loss: 0.4161 - mae: 0.4161\n",
      "Epoch 24/80\n",
      "1/1 [==============================] - 0s 0s/step - loss: 0.1231 - mae: 0.1231\n",
      "Epoch 25/80\n",
      "1/1 [==============================] - 0s 0s/step - loss: 0.4249 - mae: 0.4249\n",
      "Epoch 26/80\n",
      "1/1 [==============================] - 0s 8ms/step - loss: 0.1139 - mae: 0.1139\n",
      "Epoch 27/80\n",
      "1/1 [==============================] - 0s 0s/step - loss: 0.4336 - mae: 0.4336\n",
      "Epoch 28/80\n",
      "1/1 [==============================] - 0s 0s/step - loss: 0.1046 - mae: 0.1046\n",
      "Epoch 29/80\n",
      "1/1 [==============================] - 0s 0s/step - loss: 0.4424 - mae: 0.4424\n",
      "Epoch 30/80\n",
      "1/1 [==============================] - 0s 0s/step - loss: 0.0954 - mae: 0.0954\n",
      "Epoch 31/80\n",
      "1/1 [==============================] - 0s 0s/step - loss: 0.4511 - mae: 0.4511\n",
      "Epoch 32/80\n",
      "1/1 [==============================] - 0s 0s/step - loss: 0.0861 - mae: 0.0861\n",
      "Epoch 33/80\n",
      "1/1 [==============================] - 0s 8ms/step - loss: 0.4599 - mae: 0.4599\n",
      "Epoch 34/80\n",
      "1/1 [==============================] - 0s 0s/step - loss: 0.0769 - mae: 0.0769\n",
      "Epoch 35/80\n",
      "1/1 [==============================] - 0s 8ms/step - loss: 0.4686 - mae: 0.4686\n",
      "Epoch 36/80\n",
      "1/1 [==============================] - 0s 0s/step - loss: 0.0676 - mae: 0.0676\n",
      "Epoch 37/80\n",
      "1/1 [==============================] - 0s 0s/step - loss: 0.4774 - mae: 0.4774\n",
      "Epoch 38/80\n",
      "1/1 [==============================] - 0s 0s/step - loss: 0.0584 - mae: 0.0584\n",
      "Epoch 39/80\n",
      "1/1 [==============================] - 0s 0s/step - loss: 0.4861 - mae: 0.4861\n",
      "Epoch 40/80\n",
      "1/1 [==============================] - 0s 8ms/step - loss: 0.0491 - mae: 0.0491\n",
      "Epoch 41/80\n",
      "1/1 [==============================] - 0s 0s/step - loss: 0.4949 - mae: 0.4949\n",
      "Epoch 42/80\n",
      "1/1 [==============================] - 0s 0s/step - loss: 0.0411 - mae: 0.0411\n",
      "Epoch 43/80\n",
      "1/1 [==============================] - 0s 0s/step - loss: 0.3021 - mae: 0.3021\n",
      "Epoch 44/80\n",
      "1/1 [==============================] - 0s 0s/step - loss: 0.2277 - mae: 0.2277\n",
      "Epoch 45/80\n",
      "1/1 [==============================] - 0s 0s/step - loss: 0.3182 - mae: 0.3182\n",
      "Epoch 46/80\n",
      "1/1 [==============================] - 0s 8ms/step - loss: 0.2185 - mae: 0.2185\n",
      "Epoch 47/80\n",
      "1/1 [==============================] - 0s 0s/step - loss: 0.3270 - mae: 0.3270\n",
      "Epoch 48/80\n",
      "1/1 [==============================] - 0s 0s/step - loss: 0.2092 - mae: 0.2092\n",
      "Epoch 49/80\n",
      "1/1 [==============================] - 0s 8ms/step - loss: 0.3357 - mae: 0.3357\n",
      "Epoch 50/80\n",
      "1/1 [==============================] - 0s 0s/step - loss: 0.2000 - mae: 0.2000\n",
      "Epoch 51/80\n",
      "1/1 [==============================] - 0s 0s/step - loss: 0.3445 - mae: 0.3445\n",
      "Epoch 52/80\n",
      "1/1 [==============================] - 0s 0s/step - loss: 0.1907 - mae: 0.1907\n",
      "Epoch 53/80\n",
      "1/1 [==============================] - 0s 0s/step - loss: 0.3532 - mae: 0.3532\n",
      "Epoch 54/80\n",
      "1/1 [==============================] - 0s 0s/step - loss: 0.1815 - mae: 0.1815\n",
      "Epoch 55/80\n",
      "1/1 [==============================] - 0s 0s/step - loss: 0.3620 - mae: 0.3620\n",
      "Epoch 56/80\n",
      "1/1 [==============================] - 0s 0s/step - loss: 0.1722 - mae: 0.1722\n",
      "Epoch 57/80\n",
      "1/1 [==============================] - 0s 0s/step - loss: 0.3707 - mae: 0.3707\n",
      "Epoch 58/80\n",
      "1/1 [==============================] - 0s 0s/step - loss: 0.1630 - mae: 0.1630\n",
      "Epoch 59/80\n",
      "1/1 [==============================] - 0s 8ms/step - loss: 0.3795 - mae: 0.3795\n",
      "Epoch 60/80\n",
      "1/1 [==============================] - 0s 0s/step - loss: 0.1537 - mae: 0.1537\n",
      "Epoch 61/80\n",
      "1/1 [==============================] - 0s 0s/step - loss: 0.3882 - mae: 0.3882\n",
      "Epoch 62/80\n",
      "1/1 [==============================] - 0s 0s/step - loss: 0.1445 - mae: 0.1445\n",
      "Epoch 63/80\n",
      "1/1 [==============================] - 0s 0s/step - loss: 0.3971 - mae: 0.3971\n",
      "Epoch 64/80\n",
      "1/1 [==============================] - 0s 8ms/step - loss: 0.1407 - mae: 0.1407\n",
      "Epoch 65/80\n",
      "1/1 [==============================] - 0s 0s/step - loss: 0.4007 - mae: 0.4007\n",
      "Epoch 66/80\n",
      "1/1 [==============================] - 0s 8ms/step - loss: 0.1370 - mae: 0.1370\n",
      "Epoch 67/80\n",
      "1/1 [==============================] - 0s 0s/step - loss: 0.4042 - mae: 0.4042\n",
      "Epoch 68/80\n",
      "1/1 [==============================] - 0s 8ms/step - loss: 0.1332 - mae: 0.1332\n",
      "Epoch 69/80\n",
      "1/1 [==============================] - 0s 0s/step - loss: 0.4078 - mae: 0.4078\n",
      "Epoch 70/80\n",
      "1/1 [==============================] - 0s 0s/step - loss: 0.1295 - mae: 0.1295\n",
      "Epoch 71/80\n",
      "1/1 [==============================] - 0s 0s/step - loss: 0.4114 - mae: 0.4114\n",
      "Epoch 72/80\n",
      "1/1 [==============================] - 0s 8ms/step - loss: 0.1257 - mae: 0.1257\n",
      "Epoch 73/80\n",
      "1/1 [==============================] - 0s 0s/step - loss: 0.4149 - mae: 0.4149\n",
      "Epoch 74/80\n",
      "1/1 [==============================] - 0s 0s/step - loss: 0.1220 - mae: 0.1220\n",
      "Epoch 75/80\n",
      "1/1 [==============================] - 0s 0s/step - loss: 0.4185 - mae: 0.4185\n",
      "Epoch 76/80\n",
      "1/1 [==============================] - 0s 8ms/step - loss: 0.1182 - mae: 0.1182\n",
      "Epoch 77/80\n",
      "1/1 [==============================] - 0s 0s/step - loss: 0.4220 - mae: 0.4220\n",
      "Epoch 78/80\n",
      "1/1 [==============================] - 0s 0s/step - loss: 0.1145 - mae: 0.1145\n",
      "Epoch 79/80\n",
      "1/1 [==============================] - 0s 0s/step - loss: 0.4256 - mae: 0.4256\n",
      "Epoch 80/80\n",
      "1/1 [==============================] - 0s 0s/step - loss: 0.1107 - mae: 0.1107\n"
     ]
    },
    {
     "output_type": "execute_result",
     "data": {
      "text/plain": [
       "<keras.callbacks.History at 0x142a2e0beb0>"
      ]
     },
     "metadata": {},
     "execution_count": 36
    }
   ],
   "metadata": {}
  },
  {
   "cell_type": "code",
   "execution_count": null,
   "source": [
    "X_train = x[:80]\r\n",
    "y_train = y1[:80]\r\n",
    "\r\n",
    "X_test = x[80:] \r\n",
    "y_test = y1[80:]\r\n",
    "\r\n",
    "len(X_train), len(X_test)"
   ],
   "outputs": [
    {
     "output_type": "execute_result",
     "data": {
      "text/plain": [
       "(30, 0)"
      ]
     },
     "metadata": {},
     "execution_count": 37
    }
   ],
   "metadata": {}
  },
  {
   "cell_type": "code",
   "execution_count": null,
   "source": [
    "plt.figure(figsize=(30, 15))\r\n",
    "plt.scatter(X_train, y_train, c='b', label='Training data')\r\n",
    "plt.scatter(X_test, y_test, c='g', label='Testing data')\r\n",
    "plt.legend()"
   ],
   "outputs": [
    {
     "output_type": "execute_result",
     "data": {
      "text/plain": [
       "<matplotlib.legend.Legend at 0x142a401c5e0>"
      ]
     },
     "metadata": {},
     "execution_count": 39
    },
    {
     "output_type": "display_data",
     "data": {
      "image/png": "[encoded data removed]",
      "text/plain": [
       "<Figure size 2160x1080 with 1 Axes>"
      ]
     },
     "metadata": {
      "needs_background": "light"
     }
    }
   ],
   "metadata": {}
  },
  {
   "cell_type": "code",
   "execution_count": null,
   "source": [
    "model.summary()"
   ],
   "outputs": [
    {
     "output_type": "stream",
     "name": "stdout",
     "text": [
      "Model: \"sequential\"\n",
      "_________________________________________________________________\n",
      "Layer (type)                 Output Shape              Param #   \n",
      "=================================================================\n",
      "dense (Dense)                (None, 1)                 2         \n",
      "=================================================================\n",
      "Total params: 2\n",
      "Trainable params: 2\n",
      "Non-trainable params: 0\n",
      "_________________________________________________________________\n"
     ]
    }
   ],
   "metadata": {}
  },
  {
   "cell_type": "code",
   "execution_count": null,
   "source": [
    "model.fit(X_train, y_train, epochs=80, verbose=0)"
   ],
   "outputs": [
    {
     "output_type": "execute_result",
     "data": {
      "text/plain": [
       "<keras.callbacks.History at 0x142a4070520>"
      ]
     },
     "metadata": {},
     "execution_count": 41
    }
   ],
   "metadata": {}
  },
  {
   "cell_type": "code",
   "execution_count": null,
   "source": [
    "model.predict([20.0])"
   ],
   "outputs": [
    {
     "output_type": "execute_result",
     "data": {
      "text/plain": [
       "array([[28.635532]], dtype=float32)"
      ]
     },
     "metadata": {},
     "execution_count": 42
    }
   ],
   "metadata": {}
  },
  {
   "cell_type": "markdown",
   "source": [
    "Clasification"
   ],
   "metadata": {}
  },
  {
   "cell_type": "code",
   "execution_count": null,
   "source": [
    "tf.random.set_seed(42)\r\n",
    "\r\n",
    "model_1 = tf.keras.Sequential([\r\n",
    "  tf.keras.layers.Dense(100), \r\n",
    "  tf.keras.layers.Dense(10),\r\n",
    "  tf.keras.layers.Dense(1)\r\n",
    "])\r\n",
    "\r\n",
    "model_1.compile(loss=tf.keras.losses.BinaryCrossentropy(),\r\n",
    "                optimizer=tf.keras.optimizers.Adam(), \r\n",
    "                metrics=['accuracy'])\r\n",
    "\r\n",
    "model_1.fit(x, y1, epochs=20, verbose=0)"
   ],
   "outputs": [
    {
     "output_type": "execute_result",
     "data": {
      "text/plain": [
       "<keras.callbacks.History at 0x142a41c46a0>"
      ]
     },
     "metadata": {},
     "execution_count": 44
    }
   ],
   "metadata": {}
  },
  {
   "cell_type": "code",
   "execution_count": null,
   "source": [
    "def plot_decision_boundary(model, X, y):\r\n",
    "    \r\n",
    "  x_min, x_max = X[:, 0].min() - 0.1, X[:, 0].max() + 0.1\r\n",
    "  y_min, y_max = X[:, 1].min() - 0.1, X[:, 1].max() + 0.1\r\n",
    "  xx, yy = np.meshgrid(np.linspace(x_min, x_max, 100),\r\n",
    "                       np.linspace(y_min, y_max, 100))\r\n",
    "  \r\n",
    "  x_in = np.c_[xx.ravel(), yy.ravel()]\r\n",
    " \r\n",
    "  y_pred = model.predict(x_in)\r\n",
    "\r\n",
    "  if len(y_pred[0]) > 1:\r\n",
    "    print(\"doing multiclass classification...\")\r\n",
    "    y_pred = np.argmax(y_pred, axis=1).reshape(xx.shape)\r\n",
    "  else:\r\n",
    "    print(\"doing binary classifcation...\")\r\n",
    "    y_pred = np.round(y_pred).reshape(xx.shape)\r\n",
    "\r\n",
    "  plt.contourf(xx, yy, y_pred, cmap=plt.cm.RdYlBu, alpha=0.7)\r\n",
    "  plt.scatter(X[:, 0], X[:, 1], c=y, s=40, cmap=plt.cm.RdYlBu)\r\n",
    "  plt.xlim(xx.min(), xx.max())\r\n",
    "  plt.ylim(yy.min(), yy.max())"
   ],
   "outputs": [],
   "metadata": {}
  },
  {
   "cell_type": "code",
   "execution_count": null,
   "source": [
    "tf.random.set_seed(42)\r\n",
    "\r\n",
    "X_regression = np.arange(0, 100, 5)\r\n",
    "y_regression = np.arange(100, 110, 5)\r\n",
    "\r\n",
    "X_reg_train = X_regression[:150]\r\n",
    "X_reg_test = X_regression[150:]\r\n",
    "y_reg_train = y_regression[:150]\r\n",
    "y_reg_test = y_regression[150:]"
   ],
   "outputs": [],
   "metadata": {}
  },
  {
   "cell_type": "code",
   "execution_count": null,
   "source": [
    "model_1.evaluate(x, y1)"
   ],
   "outputs": [
    {
     "output_type": "stream",
     "name": "stdout",
     "text": [
      "1/1 [==============================] - 0s 128ms/step - loss: 7.2546 - mae: 7.2546\n"
     ]
    },
    {
     "output_type": "execute_result",
     "data": {
      "text/plain": [
       "[7.25456428527832, 7.25456428527832]"
      ]
     },
     "metadata": {},
     "execution_count": 53
    }
   ],
   "metadata": {}
  },
  {
   "cell_type": "code",
   "execution_count": null,
   "source": [
    "len(x)"
   ],
   "outputs": [
    {
     "output_type": "execute_result",
     "data": {
      "text/plain": [
       "30"
      ]
     },
     "metadata": {},
     "execution_count": 54
    }
   ],
   "metadata": {}
  },
  {
   "cell_type": "code",
   "execution_count": null,
   "source": [
    "X_train, y_train = x[:800], y1[:800]\r\n",
    "X_test, y_test = x[800:], y1[800:]\r\n",
    "\r\n",
    "X_train.shape, X_test.shape"
   ],
   "outputs": [
    {
     "output_type": "execute_result",
     "data": {
      "text/plain": [
       "((30,), (0,))"
      ]
     },
     "metadata": {},
     "execution_count": 55
    }
   ],
   "metadata": {}
  },
  {
   "cell_type": "code",
   "execution_count": null,
   "source": [
    "tf.random.set_seed(42)\r\n",
    "\r\n",
    "model_2 = tf.keras.Sequential([\r\n",
    "  tf.keras.layers.Dense(4, activation=\"relu\"), \r\n",
    "  tf.keras.layers.Dense(4, activation=\"relu\"),\r\n",
    "  tf.keras.layers.Dense(1, activation=\"sigmoid\")\r\n",
    "])\r\n",
    "\r\n",
    "model_2.compile(loss=tf.keras.losses.binary_crossentropy,\r\n",
    "                optimizer=tf.keras.optimizers.Adam(lr=0.01), \r\n",
    "                metrics=['accuracy'])\r\n",
    "\r\n",
    "history = model_2.fit(X_train, y_train, epochs=25)"
   ],
   "outputs": [
    {
     "output_type": "stream",
     "name": "stderr",
     "text": [
      "C:\\Users\\myroslava.ahafonova\\Anaconda3\\lib\\site-packages\\keras\\optimizer_v2\\optimizer_v2.py:355: UserWarning: The `lr` argument is deprecated, use `learning_rate` instead.\n",
      "  warnings.warn(\n"
     ]
    },
    {
     "output_type": "stream",
     "name": "stdout",
     "text": [
      "Epoch 1/25\n",
      "1/1 [==============================] - 0s 288ms/step - loss: 24.0441 - accuracy: 0.0333\n",
      "Epoch 2/25\n",
      "1/1 [==============================] - 0s 0s/step - loss: 22.0634 - accuracy: 0.0000e+00\n",
      "Epoch 3/25\n",
      "1/1 [==============================] - 0s 0s/step - loss: 20.1491 - accuracy: 0.0000e+00\n",
      "Epoch 4/25\n",
      "1/1 [==============================] - 0s 0s/step - loss: 18.3022 - accuracy: 0.0000e+00\n",
      "Epoch 5/25\n",
      "1/1 [==============================] - 0s 0s/step - loss: 16.5236 - accuracy: 0.0000e+00\n",
      "Epoch 6/25\n",
      "1/1 [==============================] - 0s 8ms/step - loss: 14.8142 - accuracy: 0.0000e+00\n",
      "Epoch 7/25\n",
      "1/1 [==============================] - 0s 0s/step - loss: 13.1743 - accuracy: 0.0000e+00\n",
      "Epoch 8/25\n",
      "1/1 [==============================] - 0s 0s/step - loss: 11.6044 - accuracy: 0.0000e+00\n",
      "Epoch 9/25\n",
      "1/1 [==============================] - 0s 0s/step - loss: 10.1043 - accuracy: 0.0000e+00\n",
      "Epoch 10/25\n",
      "1/1 [==============================] - 0s 0s/step - loss: 8.6738 - accuracy: 0.0000e+00\n",
      "Epoch 11/25\n",
      "1/1 [==============================] - 0s 0s/step - loss: 7.3123 - accuracy: 0.0000e+00\n",
      "Epoch 12/25\n",
      "1/1 [==============================] - 0s 8ms/step - loss: 6.0194 - accuracy: 0.0000e+00\n",
      "Epoch 13/25\n",
      "1/1 [==============================] - 0s 0s/step - loss: 4.7939 - accuracy: 0.0000e+00\n",
      "Epoch 14/25\n",
      "1/1 [==============================] - 0s 0s/step - loss: 3.6340 - accuracy: 0.0000e+00\n",
      "Epoch 15/25\n",
      "1/1 [==============================] - 0s 8ms/step - loss: 2.5389 - accuracy: 0.0000e+00\n",
      "Epoch 16/25\n",
      "1/1 [==============================] - 0s 0s/step - loss: 1.5066 - accuracy: 0.0000e+00\n",
      "Epoch 17/25\n",
      "1/1 [==============================] - 0s 8ms/step - loss: 0.5343 - accuracy: 0.0000e+00\n",
      "Epoch 18/25\n",
      "1/1 [==============================] - 0s 0s/step - loss: -0.3785 - accuracy: 0.0000e+00\n",
      "Epoch 19/25\n",
      "1/1 [==============================] - 0s 0s/step - loss: -1.2362 - accuracy: 0.0000e+00\n",
      "Epoch 20/25\n",
      "1/1 [==============================] - 0s 0s/step - loss: -2.0398 - accuracy: 0.0000e+00\n",
      "Epoch 21/25\n",
      "1/1 [==============================] - 0s 0s/step - loss: -2.7938 - accuracy: 0.0000e+00\n",
      "Epoch 22/25\n",
      "1/1 [==============================] - 0s 8ms/step - loss: -3.4995 - accuracy: 0.0000e+00\n",
      "Epoch 23/25\n",
      "1/1 [==============================] - 0s 0s/step - loss: -4.1618 - accuracy: 0.0000e+00\n",
      "Epoch 24/25\n",
      "1/1 [==============================] - 0s 0s/step - loss: -4.7827 - accuracy: 0.0000e+00\n",
      "Epoch 25/25\n",
      "1/1 [==============================] - 0s 0s/step - loss: -5.3666 - accuracy: 0.0000e+00\n"
     ]
    }
   ],
   "metadata": {}
  },
  {
   "cell_type": "code",
   "execution_count": null,
   "source": [
    "pd.DataFrame(history.history)"
   ],
   "outputs": [
    {
     "output_type": "execute_result",
     "data": {
      "text/html": [
       "<div>\n",
       "<style scoped>\n",
       "    .dataframe tbody tr th:only-of-type {\n",
       "        vertical-align: middle;\n",
       "    }\n",
       "\n",
       "    .dataframe tbody tr th {\n",
       "        vertical-align: top;\n",
       "    }\n",
       "\n",
       "    .dataframe thead th {\n",
       "        text-align: right;\n",
       "    }\n",
       "</style>\n",
       "<table border=\"1\" class=\"dataframe\">\n",
       "  <thead>\n",
       "    <tr style=\"text-align: right;\">\n",
       "      <th></th>\n",
       "      <th>loss</th>\n",
       "      <th>accuracy</th>\n",
       "    </tr>\n",
       "  </thead>\n",
       "  <tbody>\n",
       "    <tr>\n",
       "      <th>0</th>\n",
       "      <td>24.044146</td>\n",
       "      <td>0.033333</td>\n",
       "    </tr>\n",
       "    <tr>\n",
       "      <th>1</th>\n",
       "      <td>22.063450</td>\n",
       "      <td>0.000000</td>\n",
       "    </tr>\n",
       "    <tr>\n",
       "      <th>2</th>\n",
       "      <td>20.149086</td>\n",
       "      <td>0.000000</td>\n",
       "    </tr>\n",
       "    <tr>\n",
       "      <th>3</th>\n",
       "      <td>18.302156</td>\n",
       "      <td>0.000000</td>\n",
       "    </tr>\n",
       "    <tr>\n",
       "      <th>4</th>\n",
       "      <td>16.523609</td>\n",
       "      <td>0.000000</td>\n",
       "    </tr>\n",
       "    <tr>\n",
       "      <th>5</th>\n",
       "      <td>14.814157</td>\n",
       "      <td>0.000000</td>\n",
       "    </tr>\n",
       "    <tr>\n",
       "      <th>6</th>\n",
       "      <td>13.174284</td>\n",
       "      <td>0.000000</td>\n",
       "    </tr>\n",
       "    <tr>\n",
       "      <th>7</th>\n",
       "      <td>11.604381</td>\n",
       "      <td>0.000000</td>\n",
       "    </tr>\n",
       "    <tr>\n",
       "      <th>8</th>\n",
       "      <td>10.104320</td>\n",
       "      <td>0.000000</td>\n",
       "    </tr>\n",
       "    <tr>\n",
       "      <th>9</th>\n",
       "      <td>8.673802</td>\n",
       "      <td>0.000000</td>\n",
       "    </tr>\n",
       "    <tr>\n",
       "      <th>10</th>\n",
       "      <td>7.312283</td>\n",
       "      <td>0.000000</td>\n",
       "    </tr>\n",
       "    <tr>\n",
       "      <th>11</th>\n",
       "      <td>6.019423</td>\n",
       "      <td>0.000000</td>\n",
       "    </tr>\n",
       "    <tr>\n",
       "      <th>12</th>\n",
       "      <td>4.793867</td>\n",
       "      <td>0.000000</td>\n",
       "    </tr>\n",
       "    <tr>\n",
       "      <th>13</th>\n",
       "      <td>3.634002</td>\n",
       "      <td>0.000000</td>\n",
       "    </tr>\n",
       "    <tr>\n",
       "      <th>14</th>\n",
       "      <td>2.538884</td>\n",
       "      <td>0.000000</td>\n",
       "    </tr>\n",
       "    <tr>\n",
       "      <th>15</th>\n",
       "      <td>1.506579</td>\n",
       "      <td>0.000000</td>\n",
       "    </tr>\n",
       "    <tr>\n",
       "      <th>16</th>\n",
       "      <td>0.534306</td>\n",
       "      <td>0.000000</td>\n",
       "    </tr>\n",
       "    <tr>\n",
       "      <th>17</th>\n",
       "      <td>-0.378506</td>\n",
       "      <td>0.000000</td>\n",
       "    </tr>\n",
       "    <tr>\n",
       "      <th>18</th>\n",
       "      <td>-1.236237</td>\n",
       "      <td>0.000000</td>\n",
       "    </tr>\n",
       "    <tr>\n",
       "      <th>19</th>\n",
       "      <td>-2.039805</td>\n",
       "      <td>0.000000</td>\n",
       "    </tr>\n",
       "    <tr>\n",
       "      <th>20</th>\n",
       "      <td>-2.793829</td>\n",
       "      <td>0.000000</td>\n",
       "    </tr>\n",
       "    <tr>\n",
       "      <th>21</th>\n",
       "      <td>-3.499450</td>\n",
       "      <td>0.000000</td>\n",
       "    </tr>\n",
       "    <tr>\n",
       "      <th>22</th>\n",
       "      <td>-4.161818</td>\n",
       "      <td>0.000000</td>\n",
       "    </tr>\n",
       "    <tr>\n",
       "      <th>23</th>\n",
       "      <td>-4.782724</td>\n",
       "      <td>0.000000</td>\n",
       "    </tr>\n",
       "    <tr>\n",
       "      <th>24</th>\n",
       "      <td>-5.366557</td>\n",
       "      <td>0.000000</td>\n",
       "    </tr>\n",
       "  </tbody>\n",
       "</table>\n",
       "</div>"
      ],
      "text/plain": [
       "         loss  accuracy\n",
       "0   24.044146  0.033333\n",
       "1   22.063450  0.000000\n",
       "2   20.149086  0.000000\n",
       "3   18.302156  0.000000\n",
       "4   16.523609  0.000000\n",
       "5   14.814157  0.000000\n",
       "6   13.174284  0.000000\n",
       "7   11.604381  0.000000\n",
       "8   10.104320  0.000000\n",
       "9    8.673802  0.000000\n",
       "10   7.312283  0.000000\n",
       "11   6.019423  0.000000\n",
       "12   4.793867  0.000000\n",
       "13   3.634002  0.000000\n",
       "14   2.538884  0.000000\n",
       "15   1.506579  0.000000\n",
       "16   0.534306  0.000000\n",
       "17  -0.378506  0.000000\n",
       "18  -1.236237  0.000000\n",
       "19  -2.039805  0.000000\n",
       "20  -2.793829  0.000000\n",
       "21  -3.499450  0.000000\n",
       "22  -4.161818  0.000000\n",
       "23  -4.782724  0.000000\n",
       "24  -5.366557  0.000000"
      ]
     },
     "metadata": {},
     "execution_count": 57
    }
   ],
   "metadata": {}
  },
  {
   "cell_type": "code",
   "execution_count": null,
   "source": [
    "pd.DataFrame(history.history).plot()\r\n",
    "plt.title(\"training_2 \")"
   ],
   "outputs": [
    {
     "output_type": "execute_result",
     "data": {
      "text/plain": [
       "Text(0.5, 1.0, 'training_2 ')"
      ]
     },
     "metadata": {},
     "execution_count": 58
    },
    {
     "output_type": "display_data",
     "data": {
      "image/png": "[encoded data removed]",
      "text/plain": [
       "<Figure size 432x288 with 1 Axes>"
      ]
     },
     "metadata": {
      "needs_background": "light"
     }
    }
   ],
   "metadata": {}
  }
 ],
 "metadata": {
  "orig_nbformat": 4,
  "language_info": {
   "name": "python",
   "version": "3.8.8",
   "mimetype": "text/x-python",
   "codemirror_mode": {
    "name": "ipython",
    "version": 3
   },
   "pygments_lexer": "ipython3",
   "nbconvert_exporter": "python",
   "file_extension": ".py"
  },
  "kernelspec": {
   "name": "python3",
   "display_name": "Python 3.8.8 64-bit ('base': conda)"
  },
  "interpreter": {
   "hash": "6ef99b769e18be2f13503555faffbd026a35af316404c854be86511d84251ebf"
  }
 },
 "nbformat": 4,
 "nbformat_minor": 2
}